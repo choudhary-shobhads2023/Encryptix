{
 "cells": [
  {
   "cell_type": "code",
   "execution_count": 1,
   "id": "9c7996da",
   "metadata": {},
   "outputs": [],
   "source": [
    "import numpy as np\n",
    "import pandas as pd \n",
    "import seaborn as sns\n",
    "import matplotlib.pyplot as plt\n",
    "%matplotlib inline"
   ]
  },
  {
   "cell_type": "code",
   "execution_count": 2,
   "id": "58a3c4fe",
   "metadata": {},
   "outputs": [
    {
     "data": {
      "text/html": [
       "<div>\n",
       "<style scoped>\n",
       "    .dataframe tbody tr th:only-of-type {\n",
       "        vertical-align: middle;\n",
       "    }\n",
       "\n",
       "    .dataframe tbody tr th {\n",
       "        vertical-align: top;\n",
       "    }\n",
       "\n",
       "    .dataframe thead th {\n",
       "        text-align: right;\n",
       "    }\n",
       "</style>\n",
       "<table border=\"1\" class=\"dataframe\">\n",
       "  <thead>\n",
       "    <tr style=\"text-align: right;\">\n",
       "      <th></th>\n",
       "      <th>Movie</th>\n",
       "      <th>Genre</th>\n",
       "      <th>Description</th>\n",
       "    </tr>\n",
       "  </thead>\n",
       "  <tbody>\n",
       "    <tr>\n",
       "      <th>1</th>\n",
       "      <td>Oscar et la dame rose (2009)</td>\n",
       "      <td>drama</td>\n",
       "      <td>Listening in to a conversation between his do...</td>\n",
       "    </tr>\n",
       "    <tr>\n",
       "      <th>2</th>\n",
       "      <td>Cupid (1997)</td>\n",
       "      <td>thriller</td>\n",
       "      <td>A brother and sister with a past incestuous r...</td>\n",
       "    </tr>\n",
       "    <tr>\n",
       "      <th>3</th>\n",
       "      <td>Young, Wild and Wonderful (1980)</td>\n",
       "      <td>adult</td>\n",
       "      <td>As the bus empties the students for their fie...</td>\n",
       "    </tr>\n",
       "    <tr>\n",
       "      <th>4</th>\n",
       "      <td>The Secret Sin (1915)</td>\n",
       "      <td>drama</td>\n",
       "      <td>To help their unemployed father make ends mee...</td>\n",
       "    </tr>\n",
       "    <tr>\n",
       "      <th>5</th>\n",
       "      <td>The Unrecovered (2007)</td>\n",
       "      <td>drama</td>\n",
       "      <td>The film's title refers not only to the un-re...</td>\n",
       "    </tr>\n",
       "  </tbody>\n",
       "</table>\n",
       "</div>"
      ],
      "text/plain": [
       "                                Movie       Genre  \\\n",
       "1       Oscar et la dame rose (2009)       drama    \n",
       "2                       Cupid (1997)    thriller    \n",
       "3   Young, Wild and Wonderful (1980)       adult    \n",
       "4              The Secret Sin (1915)       drama    \n",
       "5             The Unrecovered (2007)       drama    \n",
       "\n",
       "                                         Description  \n",
       "1   Listening in to a conversation between his do...  \n",
       "2   A brother and sister with a past incestuous r...  \n",
       "3   As the bus empties the students for their fie...  \n",
       "4   To help their unemployed father make ends mee...  \n",
       "5   The film's title refers not only to the un-re...  "
      ]
     },
     "execution_count": 2,
     "metadata": {},
     "output_type": "execute_result"
    }
   ],
   "source": [
    "train_df = pd.read_csv(\"train_data.txt\",sep=':::', names=['Movie','Genre','Description'],engine='python')\n",
    "train_df.head()\n"
   ]
  },
  {
   "cell_type": "code",
   "execution_count": 3,
   "id": "d7b0beb0",
   "metadata": {},
   "outputs": [
    {
     "data": {
      "text/html": [
       "<div>\n",
       "<style scoped>\n",
       "    .dataframe tbody tr th:only-of-type {\n",
       "        vertical-align: middle;\n",
       "    }\n",
       "\n",
       "    .dataframe tbody tr th {\n",
       "        vertical-align: top;\n",
       "    }\n",
       "\n",
       "    .dataframe thead th {\n",
       "        text-align: right;\n",
       "    }\n",
       "</style>\n",
       "<table border=\"1\" class=\"dataframe\">\n",
       "  <thead>\n",
       "    <tr style=\"text-align: right;\">\n",
       "      <th></th>\n",
       "      <th>Movie</th>\n",
       "      <th>Description</th>\n",
       "    </tr>\n",
       "  </thead>\n",
       "  <tbody>\n",
       "    <tr>\n",
       "      <th>1</th>\n",
       "      <td>Edgar's Lunch (1998)</td>\n",
       "      <td>L.R. Brane loves his life - his car, his apar...</td>\n",
       "    </tr>\n",
       "    <tr>\n",
       "      <th>2</th>\n",
       "      <td>La guerra de papá (1977)</td>\n",
       "      <td>Spain, March 1964: Quico is a very naughty ch...</td>\n",
       "    </tr>\n",
       "    <tr>\n",
       "      <th>3</th>\n",
       "      <td>Off the Beaten Track (2010)</td>\n",
       "      <td>One year in the life of Albin and his family ...</td>\n",
       "    </tr>\n",
       "    <tr>\n",
       "      <th>4</th>\n",
       "      <td>Meu Amigo Hindu (2015)</td>\n",
       "      <td>His father has died, he hasn't spoken with hi...</td>\n",
       "    </tr>\n",
       "    <tr>\n",
       "      <th>5</th>\n",
       "      <td>Er nu zhai (1955)</td>\n",
       "      <td>Before he was known internationally as a mart...</td>\n",
       "    </tr>\n",
       "  </tbody>\n",
       "</table>\n",
       "</div>"
      ],
      "text/plain": [
       "                           Movie  \\\n",
       "1          Edgar's Lunch (1998)    \n",
       "2      La guerra de papá (1977)    \n",
       "3   Off the Beaten Track (2010)    \n",
       "4        Meu Amigo Hindu (2015)    \n",
       "5             Er nu zhai (1955)    \n",
       "\n",
       "                                         Description  \n",
       "1   L.R. Brane loves his life - his car, his apar...  \n",
       "2   Spain, March 1964: Quico is a very naughty ch...  \n",
       "3   One year in the life of Albin and his family ...  \n",
       "4   His father has died, he hasn't spoken with hi...  \n",
       "5   Before he was known internationally as a mart...  "
      ]
     },
     "execution_count": 3,
     "metadata": {},
     "output_type": "execute_result"
    }
   ],
   "source": [
    "test_df = pd.read_csv(\"test_data.txt\",sep=':::',names=['Movie','Description'],engine='python')\n",
    "test_df.head()"
   ]
  },
  {
   "cell_type": "code",
   "execution_count": 4,
   "id": "674991bd",
   "metadata": {},
   "outputs": [
    {
     "data": {
      "text/plain": [
       "(54214, 3)"
      ]
     },
     "execution_count": 4,
     "metadata": {},
     "output_type": "execute_result"
    }
   ],
   "source": [
    "train_df.shape"
   ]
  },
  {
   "cell_type": "code",
   "execution_count": 5,
   "id": "f8583723",
   "metadata": {},
   "outputs": [
    {
     "data": {
      "text/plain": [
       "(54200, 2)"
      ]
     },
     "execution_count": 5,
     "metadata": {},
     "output_type": "execute_result"
    }
   ],
   "source": [
    "test_df.shape"
   ]
  },
  {
   "cell_type": "code",
   "execution_count": 6,
   "id": "15deef9b",
   "metadata": {},
   "outputs": [
    {
     "name": "stdout",
     "output_type": "stream",
     "text": [
      "<class 'pandas.core.frame.DataFrame'>\n",
      "Index: 54214 entries, 1 to 54214\n",
      "Data columns (total 3 columns):\n",
      " #   Column       Non-Null Count  Dtype \n",
      "---  ------       --------------  ----- \n",
      " 0   Movie        54214 non-null  object\n",
      " 1   Genre        54214 non-null  object\n",
      " 2   Description  54214 non-null  object\n",
      "dtypes: object(3)\n",
      "memory usage: 1.7+ MB\n"
     ]
    }
   ],
   "source": [
    "train_df.info()"
   ]
  },
  {
   "cell_type": "code",
   "execution_count": 7,
   "id": "9aea654b",
   "metadata": {},
   "outputs": [
    {
     "name": "stdout",
     "output_type": "stream",
     "text": [
      "<class 'pandas.core.frame.DataFrame'>\n",
      "Index: 54200 entries, 1 to 54200\n",
      "Data columns (total 2 columns):\n",
      " #   Column       Non-Null Count  Dtype \n",
      "---  ------       --------------  ----- \n",
      " 0   Movie        54200 non-null  object\n",
      " 1   Description  54200 non-null  object\n",
      "dtypes: object(2)\n",
      "memory usage: 1.2+ MB\n"
     ]
    }
   ],
   "source": [
    "test_df.info()"
   ]
  },
  {
   "cell_type": "code",
   "execution_count": 8,
   "id": "d7d44c71",
   "metadata": {},
   "outputs": [
    {
     "data": {
      "text/plain": [
       "Movie          0\n",
       "Genre          0\n",
       "Description    0\n",
       "dtype: int64"
      ]
     },
     "execution_count": 8,
     "metadata": {},
     "output_type": "execute_result"
    }
   ],
   "source": [
    "train_df.isnull().sum()"
   ]
  },
  {
   "cell_type": "code",
   "execution_count": 9,
   "id": "45e6bc41",
   "metadata": {},
   "outputs": [
    {
     "data": {
      "text/plain": [
       "Movie          0\n",
       "Description    0\n",
       "dtype: int64"
      ]
     },
     "execution_count": 9,
     "metadata": {},
     "output_type": "execute_result"
    }
   ],
   "source": [
    "test_df.isnull().sum()"
   ]
  },
  {
   "cell_type": "code",
   "execution_count": 10,
   "id": "332c70f0",
   "metadata": {},
   "outputs": [
    {
     "data": {
      "text/plain": [
       "Genre\n",
       " drama           13613\n",
       " documentary     13096\n",
       " comedy           7447\n",
       " short            5073\n",
       " horror           2204\n",
       " thriller         1591\n",
       " action           1315\n",
       " western          1032\n",
       " reality-tv        884\n",
       " family            784\n",
       " adventure         775\n",
       " music             731\n",
       " romance           672\n",
       " sci-fi            647\n",
       " adult             590\n",
       " crime             505\n",
       " animation         498\n",
       " sport             432\n",
       " talk-show         391\n",
       " fantasy           323\n",
       " mystery           319\n",
       " musical           277\n",
       " biography         265\n",
       " history           243\n",
       " game-show         194\n",
       " news              181\n",
       " war               132\n",
       "Name: count, dtype: int64"
      ]
     },
     "execution_count": 10,
     "metadata": {},
     "output_type": "execute_result"
    }
   ],
   "source": [
    "train_df['Genre'].value_counts()"
   ]
  },
  {
   "cell_type": "code",
   "execution_count": 11,
   "id": "bedffd69",
   "metadata": {},
   "outputs": [
    {
     "data": {
      "text/plain": [
       "54214"
      ]
     },
     "execution_count": 11,
     "metadata": {},
     "output_type": "execute_result"
    }
   ],
   "source": [
    "train_df['Movie'].nunique()"
   ]
  },
  {
   "cell_type": "code",
   "execution_count": 12,
   "id": "d2e7ca60",
   "metadata": {},
   "outputs": [
    {
     "data": {
      "text/plain": [
       "0"
      ]
     },
     "execution_count": 12,
     "metadata": {},
     "output_type": "execute_result"
    }
   ],
   "source": [
    "train_df.duplicated().sum()"
   ]
  },
  {
   "cell_type": "code",
   "execution_count": 13,
   "id": "d0b00a6c",
   "metadata": {},
   "outputs": [
    {
     "data": {
      "text/plain": [
       "0"
      ]
     },
     "execution_count": 13,
     "metadata": {},
     "output_type": "execute_result"
    }
   ],
   "source": [
    "test_df.duplicated().sum()"
   ]
  },
  {
   "cell_type": "code",
   "execution_count": 14,
   "id": "60432355",
   "metadata": {},
   "outputs": [
    {
     "data": {
      "image/png": "[encoded data removed]",
      "text/plain": [
       "<Figure size 1500x800 with 1 Axes>"
      ]
     },
     "metadata": {},
     "output_type": "display_data"
    }
   ],
   "source": [
    "plt.figure(figsize=(15,8))\n",
    "sns.countplot(y='Genre',data=train_df,order=train_df['Genre'].value_counts().index,palette='gist_rainbow')\n",
    "plt.title(\"Genre Distribution\",color='purple',fontsize=15,fontweight='bold')\n",
    "plt.xticks(color='blue')\n",
    "plt.ylabel(\"Genre\",color='blue')\n",
    "plt.yticks(color='blue');\n",
    "#plt.xticks(rotation=45,color='blue');"
   ]
  },
  {
   "cell_type": "code",
   "execution_count": 15,
   "id": "ae6ebb89",
   "metadata": {},
   "outputs": [
    {
     "data": {
      "text/html": [
       "<div>\n",
       "<style scoped>\n",
       "    .dataframe tbody tr th:only-of-type {\n",
       "        vertical-align: middle;\n",
       "    }\n",
       "\n",
       "    .dataframe tbody tr th {\n",
       "        vertical-align: top;\n",
       "    }\n",
       "\n",
       "    .dataframe thead th {\n",
       "        text-align: right;\n",
       "    }\n",
       "</style>\n",
       "<table border=\"1\" class=\"dataframe\">\n",
       "  <thead>\n",
       "    <tr style=\"text-align: right;\">\n",
       "      <th></th>\n",
       "      <th></th>\n",
       "      <th>Description</th>\n",
       "    </tr>\n",
       "    <tr>\n",
       "      <th>Genre</th>\n",
       "      <th>Movie</th>\n",
       "      <th></th>\n",
       "    </tr>\n",
       "  </thead>\n",
       "  <tbody>\n",
       "    <tr>\n",
       "      <th rowspan=\"5\" valign=\"top\">action</th>\n",
       "      <th>\"A Girl Is a Gun\" (2017)</th>\n",
       "      <td>1</td>\n",
       "    </tr>\n",
       "    <tr>\n",
       "      <th>\"A Stressful Year\" (2016)</th>\n",
       "      <td>1</td>\n",
       "    </tr>\n",
       "    <tr>\n",
       "      <th>\"A Swordsman in Wilderness\" (2011)</th>\n",
       "      <td>1</td>\n",
       "    </tr>\n",
       "    <tr>\n",
       "      <th>\"Air Force One Is Down\" (2013)</th>\n",
       "      <td>1</td>\n",
       "    </tr>\n",
       "    <tr>\n",
       "      <th>\"Alex Reed\" (2017)</th>\n",
       "      <td>1</td>\n",
       "    </tr>\n",
       "    <tr>\n",
       "      <th>...</th>\n",
       "      <th>...</th>\n",
       "      <td>...</td>\n",
       "    </tr>\n",
       "    <tr>\n",
       "      <th rowspan=\"5\" valign=\"top\">western</th>\n",
       "      <th>Yodelin' Kid from Pine Ridge (1937)</th>\n",
       "      <td>1</td>\n",
       "    </tr>\n",
       "    <tr>\n",
       "      <th>Young Fury (1964)</th>\n",
       "      <td>1</td>\n",
       "    </tr>\n",
       "    <tr>\n",
       "      <th>Zandy's Bride (1974)</th>\n",
       "      <td>1</td>\n",
       "    </tr>\n",
       "    <tr>\n",
       "      <th>Zorro alla corte di Spagna (1962)</th>\n",
       "      <td>1</td>\n",
       "    </tr>\n",
       "    <tr>\n",
       "      <th>Zorro's Black Whip (1944)</th>\n",
       "      <td>1</td>\n",
       "    </tr>\n",
       "  </tbody>\n",
       "</table>\n",
       "<p>54214 rows × 1 columns</p>\n",
       "</div>"
      ],
      "text/plain": [
       "                                                 Description\n",
       "Genre     Movie                                             \n",
       " action    \"A Girl Is a Gun\" (2017)                        1\n",
       "           \"A Stressful Year\" (2016)                       1\n",
       "           \"A Swordsman in Wilderness\" (2011)              1\n",
       "           \"Air Force One Is Down\" (2013)                  1\n",
       "           \"Alex Reed\" (2017)                              1\n",
       "...                                                      ...\n",
       " western   Yodelin' Kid from Pine Ridge (1937)             1\n",
       "           Young Fury (1964)                               1\n",
       "           Zandy's Bride (1974)                            1\n",
       "           Zorro alla corte di Spagna (1962)               1\n",
       "           Zorro's Black Whip (1944)                       1\n",
       "\n",
       "[54214 rows x 1 columns]"
      ]
     },
     "execution_count": 15,
     "metadata": {},
     "output_type": "execute_result"
    }
   ],
   "source": [
    "train_df.groupby(['Genre','Movie']).count()"
   ]
  },
  {
   "cell_type": "markdown",
   "id": "f2e64ff8",
   "metadata": {},
   "source": [
    "### Data Pre-Processing"
   ]
  },
  {
   "cell_type": "code",
   "execution_count": 16,
   "id": "7a46d3ec",
   "metadata": {},
   "outputs": [],
   "source": [
    "import nltk"
   ]
  },
  {
   "cell_type": "code",
   "execution_count": 17,
   "id": "a88d6ef2",
   "metadata": {},
   "outputs": [
    {
     "name": "stderr",
     "output_type": "stream",
     "text": [
      "[nltk_data] Downloading package punkt to\n",
      "[nltk_data]     C:\\Users\\USER\\AppData\\Roaming\\nltk_data...\n",
      "[nltk_data]   Package punkt is already up-to-date!\n"
     ]
    }
   ],
   "source": [
    "import re\n",
    "import string\n",
    "from nltk.corpus import stopwords\n",
    "from string import punctuation\n",
    "nltk.download('punkt')\n",
    "from nltk.tokenize import word_tokenize"
   ]
  },
  {
   "cell_type": "markdown",
   "id": "c9d733a7",
   "metadata": {},
   "source": [
    "### Lower Case Conversion"
   ]
  },
  {
   "cell_type": "code",
   "execution_count": 18,
   "id": "2bc13e96",
   "metadata": {},
   "outputs": [],
   "source": [
    "train_df['Description'] = train_df['Description'].str.lower()\n",
    "test_df['Description'] = test_df['Description'].str.lower()"
   ]
  },
  {
   "cell_type": "code",
   "execution_count": 19,
   "id": "286b8b90",
   "metadata": {},
   "outputs": [
    {
     "data": {
      "text/html": [
       "<div>\n",
       "<style scoped>\n",
       "    .dataframe tbody tr th:only-of-type {\n",
       "        vertical-align: middle;\n",
       "    }\n",
       "\n",
       "    .dataframe tbody tr th {\n",
       "        vertical-align: top;\n",
       "    }\n",
       "\n",
       "    .dataframe thead th {\n",
       "        text-align: right;\n",
       "    }\n",
       "</style>\n",
       "<table border=\"1\" class=\"dataframe\">\n",
       "  <thead>\n",
       "    <tr style=\"text-align: right;\">\n",
       "      <th></th>\n",
       "      <th>Movie</th>\n",
       "      <th>Genre</th>\n",
       "      <th>Description</th>\n",
       "    </tr>\n",
       "  </thead>\n",
       "  <tbody>\n",
       "    <tr>\n",
       "      <th>1</th>\n",
       "      <td>Oscar et la dame rose (2009)</td>\n",
       "      <td>drama</td>\n",
       "      <td>listening in to a conversation between his do...</td>\n",
       "    </tr>\n",
       "    <tr>\n",
       "      <th>2</th>\n",
       "      <td>Cupid (1997)</td>\n",
       "      <td>thriller</td>\n",
       "      <td>a brother and sister with a past incestuous r...</td>\n",
       "    </tr>\n",
       "    <tr>\n",
       "      <th>3</th>\n",
       "      <td>Young, Wild and Wonderful (1980)</td>\n",
       "      <td>adult</td>\n",
       "      <td>as the bus empties the students for their fie...</td>\n",
       "    </tr>\n",
       "    <tr>\n",
       "      <th>4</th>\n",
       "      <td>The Secret Sin (1915)</td>\n",
       "      <td>drama</td>\n",
       "      <td>to help their unemployed father make ends mee...</td>\n",
       "    </tr>\n",
       "    <tr>\n",
       "      <th>5</th>\n",
       "      <td>The Unrecovered (2007)</td>\n",
       "      <td>drama</td>\n",
       "      <td>the film's title refers not only to the un-re...</td>\n",
       "    </tr>\n",
       "  </tbody>\n",
       "</table>\n",
       "</div>"
      ],
      "text/plain": [
       "                                Movie       Genre  \\\n",
       "1       Oscar et la dame rose (2009)       drama    \n",
       "2                       Cupid (1997)    thriller    \n",
       "3   Young, Wild and Wonderful (1980)       adult    \n",
       "4              The Secret Sin (1915)       drama    \n",
       "5             The Unrecovered (2007)       drama    \n",
       "\n",
       "                                         Description  \n",
       "1   listening in to a conversation between his do...  \n",
       "2   a brother and sister with a past incestuous r...  \n",
       "3   as the bus empties the students for their fie...  \n",
       "4   to help their unemployed father make ends mee...  \n",
       "5   the film's title refers not only to the un-re...  "
      ]
     },
     "execution_count": 19,
     "metadata": {},
     "output_type": "execute_result"
    }
   ],
   "source": [
    "train_df.head()"
   ]
  },
  {
   "cell_type": "code",
   "execution_count": 20,
   "id": "2e44a98b",
   "metadata": {},
   "outputs": [
    {
     "data": {
      "text/html": [
       "<div>\n",
       "<style scoped>\n",
       "    .dataframe tbody tr th:only-of-type {\n",
       "        vertical-align: middle;\n",
       "    }\n",
       "\n",
       "    .dataframe tbody tr th {\n",
       "        vertical-align: top;\n",
       "    }\n",
       "\n",
       "    .dataframe thead th {\n",
       "        text-align: right;\n",
       "    }\n",
       "</style>\n",
       "<table border=\"1\" class=\"dataframe\">\n",
       "  <thead>\n",
       "    <tr style=\"text-align: right;\">\n",
       "      <th></th>\n",
       "      <th>Movie</th>\n",
       "      <th>Description</th>\n",
       "    </tr>\n",
       "  </thead>\n",
       "  <tbody>\n",
       "    <tr>\n",
       "      <th>1</th>\n",
       "      <td>Edgar's Lunch (1998)</td>\n",
       "      <td>l.r. brane loves his life - his car, his apar...</td>\n",
       "    </tr>\n",
       "    <tr>\n",
       "      <th>2</th>\n",
       "      <td>La guerra de papá (1977)</td>\n",
       "      <td>spain, march 1964: quico is a very naughty ch...</td>\n",
       "    </tr>\n",
       "    <tr>\n",
       "      <th>3</th>\n",
       "      <td>Off the Beaten Track (2010)</td>\n",
       "      <td>one year in the life of albin and his family ...</td>\n",
       "    </tr>\n",
       "    <tr>\n",
       "      <th>4</th>\n",
       "      <td>Meu Amigo Hindu (2015)</td>\n",
       "      <td>his father has died, he hasn't spoken with hi...</td>\n",
       "    </tr>\n",
       "    <tr>\n",
       "      <th>5</th>\n",
       "      <td>Er nu zhai (1955)</td>\n",
       "      <td>before he was known internationally as a mart...</td>\n",
       "    </tr>\n",
       "  </tbody>\n",
       "</table>\n",
       "</div>"
      ],
      "text/plain": [
       "                           Movie  \\\n",
       "1          Edgar's Lunch (1998)    \n",
       "2      La guerra de papá (1977)    \n",
       "3   Off the Beaten Track (2010)    \n",
       "4        Meu Amigo Hindu (2015)    \n",
       "5             Er nu zhai (1955)    \n",
       "\n",
       "                                         Description  \n",
       "1   l.r. brane loves his life - his car, his apar...  \n",
       "2   spain, march 1964: quico is a very naughty ch...  \n",
       "3   one year in the life of albin and his family ...  \n",
       "4   his father has died, he hasn't spoken with hi...  \n",
       "5   before he was known internationally as a mart...  "
      ]
     },
     "execution_count": 20,
     "metadata": {},
     "output_type": "execute_result"
    }
   ],
   "source": [
    "test_df.head()"
   ]
  },
  {
   "cell_type": "markdown",
   "id": "2cf5e5fd",
   "metadata": {},
   "source": [
    "### Removing Stopwords"
   ]
  },
  {
   "cell_type": "code",
   "execution_count": 21,
   "id": "39439d03",
   "metadata": {},
   "outputs": [],
   "source": [
    "stopwords = nltk.corpus.stopwords.words('english') +list(string.punctuation) \n",
    "#stopwords"
   ]
  },
  {
   "cell_type": "code",
   "execution_count": 22,
   "id": "fcd78a08",
   "metadata": {},
   "outputs": [],
   "source": [
    "train_df['Description'] = train_df['Description'].apply(lambda x: [item for item in x.split() if item not in stopwords]).apply(lambda x:\" \".join(x))\n",
    "\n",
    "test_df['Description'] = test_df['Description'].apply(lambda x: [item for item in x.split() if item not in stopwords]).apply(lambda x:\" \".join(x))"
   ]
  },
  {
   "cell_type": "code",
   "execution_count": 23,
   "id": "4f8510b8",
   "metadata": {},
   "outputs": [
    {
     "data": {
      "text/plain": [
       "'quality control consists series 16mm single take shots filmed summer 2010,over two day period, dry cleaners facility pritchard, alabama, near mobile, quality control exhibits acts well conditions around labor showcases, everson\\'s words \"the fine folks alabama producing superior product.\" similar stylistically, form rhythm, certain scenarios everson\\'s award-winning critically acclaimed previous films, including erie (iffr 2010) thematic concerns several short form works follow daily, quotidian tasks workers rest motion, oblique sequel, ten years hence, everson\\'s creative capital granted project week hole (2001), focused employee\\'s adjustment materials, time, space personnel. quality control consists series 16mm single take shots, filmed two day period summer 2010, dry cleaners facility pritchard, alabama, near mobile. quality control exhibits acts well conditions around labor. similar stylistically, form rhythm, certain scenarios everson\\'s award-winning critically acclaimed previous films, including erie (iffr 2010) thematic concerns several short form works follow daily, quotidian tasks workers rest motion, including factory routine captured short film week hole (2001), focused employee\\'s adjustment materials, time, space personnel. principal cast includes shay wright annette speight.'"
      ]
     },
     "execution_count": 23,
     "metadata": {},
     "output_type": "execute_result"
    }
   ],
   "source": [
    "train_df['Description'].iloc[5]"
   ]
  },
  {
   "cell_type": "code",
   "execution_count": 24,
   "id": "c8b1e8c1",
   "metadata": {},
   "outputs": [
    {
     "data": {
      "text/plain": [
       "'spain, march 1964: quico naughty child three belonging wealthy middle-class family. since cristina\\'s birth, feels lost privileged position \"prince\" house eight months old sister. so, brother juan, eight years old quite disobedient, spend time committing prank prank, causing resulting anger mother, nanny old housemaid. rest family members two much older brothers, resigned mother retrograde father authoritarian ideas. many years passed, civil war despot pablo simply children \"dad\\'s war\".'"
      ]
     },
     "execution_count": 24,
     "metadata": {},
     "output_type": "execute_result"
    }
   ],
   "source": [
    "test_df['Description'].iloc[1]"
   ]
  },
  {
   "cell_type": "code",
   "execution_count": 25,
   "id": "556879b8",
   "metadata": {},
   "outputs": [],
   "source": [
    "train_df['Description'] = train_df['Description'].str.replace('[^\\w\\s]','')\n",
    "#\\w: Returns a match where the string contains any word characters (characters from a to Z, digits from 0-9, and the underscore _ character)\n",
    "#\\s: Returns a match where the string contains a white space character.\n",
    "#[^]: Returns a match for any character EXCEPT what is written after it.\n",
    "test_df['Description'] = test_df['Description'].str.replace('[^\\w\\s]','')"
   ]
  },
  {
   "cell_type": "code",
   "execution_count": 26,
   "id": "22b355f5",
   "metadata": {},
   "outputs": [
    {
     "data": {
      "text/plain": [
       "'quality control consists series 16mm single take shots filmed summer 2010,over two day period, dry cleaners facility pritchard, alabama, near mobile, quality control exhibits acts well conditions around labor showcases, everson\\'s words \"the fine folks alabama producing superior product.\" similar stylistically, form rhythm, certain scenarios everson\\'s award-winning critically acclaimed previous films, including erie (iffr 2010) thematic concerns several short form works follow daily, quotidian tasks workers rest motion, oblique sequel, ten years hence, everson\\'s creative capital granted project week hole (2001), focused employee\\'s adjustment materials, time, space personnel. quality control consists series 16mm single take shots, filmed two day period summer 2010, dry cleaners facility pritchard, alabama, near mobile. quality control exhibits acts well conditions around labor. similar stylistically, form rhythm, certain scenarios everson\\'s award-winning critically acclaimed previous films, including erie (iffr 2010) thematic concerns several short form works follow daily, quotidian tasks workers rest motion, including factory routine captured short film week hole (2001), focused employee\\'s adjustment materials, time, space personnel. principal cast includes shay wright annette speight.'"
      ]
     },
     "execution_count": 26,
     "metadata": {},
     "output_type": "execute_result"
    }
   ],
   "source": [
    "train_df['Description'].iloc[5]"
   ]
  },
  {
   "cell_type": "code",
   "execution_count": 27,
   "id": "9a34bc7d",
   "metadata": {},
   "outputs": [
    {
     "data": {
      "text/plain": [
       "'spain, march 1964: quico naughty child three belonging wealthy middle-class family. since cristina\\'s birth, feels lost privileged position \"prince\" house eight months old sister. so, brother juan, eight years old quite disobedient, spend time committing prank prank, causing resulting anger mother, nanny old housemaid. rest family members two much older brothers, resigned mother retrograde father authoritarian ideas. many years passed, civil war despot pablo simply children \"dad\\'s war\".'"
      ]
     },
     "execution_count": 27,
     "metadata": {},
     "output_type": "execute_result"
    }
   ],
   "source": [
    "test_df['Description'].iloc[1]"
   ]
  },
  {
   "cell_type": "code",
   "execution_count": 28,
   "id": "9f99a649",
   "metadata": {},
   "outputs": [],
   "source": [
    "exclude = string.punctuation"
   ]
  },
  {
   "cell_type": "code",
   "execution_count": 29,
   "id": "93c36f63",
   "metadata": {},
   "outputs": [],
   "source": [
    "def remove_punc1(text):\n",
    "    return text.translate(str.maketrans('', '', exclude))"
   ]
  },
  {
   "cell_type": "code",
   "execution_count": 30,
   "id": "809ea01f",
   "metadata": {},
   "outputs": [],
   "source": [
    "train_df['Description'] = train_df['Description'].apply(remove_punc1)\n",
    "test_df['Description'] = test_df['Description'].apply(remove_punc1)"
   ]
  },
  {
   "cell_type": "code",
   "execution_count": 31,
   "id": "4f3ca977",
   "metadata": {},
   "outputs": [
    {
     "data": {
      "text/plain": [
       "'quality control consists series 16mm single take shots filmed summer 2010over two day period dry cleaners facility pritchard alabama near mobile quality control exhibits acts well conditions around labor showcases eversons words the fine folks alabama producing superior product similar stylistically form rhythm certain scenarios eversons awardwinning critically acclaimed previous films including erie iffr 2010 thematic concerns several short form works follow daily quotidian tasks workers rest motion oblique sequel ten years hence eversons creative capital granted project week hole 2001 focused employees adjustment materials time space personnel quality control consists series 16mm single take shots filmed two day period summer 2010 dry cleaners facility pritchard alabama near mobile quality control exhibits acts well conditions around labor similar stylistically form rhythm certain scenarios eversons awardwinning critically acclaimed previous films including erie iffr 2010 thematic concerns several short form works follow daily quotidian tasks workers rest motion including factory routine captured short film week hole 2001 focused employees adjustment materials time space personnel principal cast includes shay wright annette speight'"
      ]
     },
     "execution_count": 31,
     "metadata": {},
     "output_type": "execute_result"
    }
   ],
   "source": [
    "train_df['Description'].iloc[5]"
   ]
  },
  {
   "cell_type": "code",
   "execution_count": 32,
   "id": "c3e5f6f2",
   "metadata": {},
   "outputs": [
    {
     "data": {
      "text/plain": [
       "'spain march 1964 quico naughty child three belonging wealthy middleclass family since cristinas birth feels lost privileged position prince house eight months old sister so brother juan eight years old quite disobedient spend time committing prank prank causing resulting anger mother nanny old housemaid rest family members two much older brothers resigned mother retrograde father authoritarian ideas many years passed civil war despot pablo simply children dads war'"
      ]
     },
     "execution_count": 32,
     "metadata": {},
     "output_type": "execute_result"
    }
   ],
   "source": [
    "test_df['Description'].iloc[1]"
   ]
  },
  {
   "cell_type": "markdown",
   "id": "2f423f5b",
   "metadata": {},
   "source": [
    "### Removing Unwanted Characters "
   ]
  },
  {
   "cell_type": "code",
   "execution_count": 33,
   "id": "4220943c",
   "metadata": {},
   "outputs": [],
   "source": [
    "def clean_data(text):\n",
    "    text = re.sub(r'<.*?>','',text)    # Remove html tags\n",
    "    text = re.sub(r'@\\S+', '', text)\n",
    "    text = re.sub(r'https?://\\S+|www\\.\\S+','',text)   # Remove URL's\n",
    "    text = re.sub(r\"[^a-zA-Z+']\", ' ', text)\n",
    "    text = re.sub(r'[^\\w\\s]','',text)\n",
    "    #text = re.sub(r'[^\\w\\s]','')\n",
    "    # word = nltk.word_tokenize(text)\n",
    "    text = re.sub(\"\\s[\\s]+\", \" \", text).strip()  # Remove repeated/leading/trailing spaces\n",
    "    return text\n",
    "    \n",
    "    "
   ]
  },
  {
   "cell_type": "code",
   "execution_count": 34,
   "id": "e56fd1ae",
   "metadata": {},
   "outputs": [],
   "source": [
    "train_df['Description'] = train_df['Description'].apply(clean_data)\n",
    "test_df['Description'] = test_df['Description'].apply(clean_data)"
   ]
  },
  {
   "cell_type": "code",
   "execution_count": 35,
   "id": "ff51e6a0",
   "metadata": {},
   "outputs": [
    {
     "data": {
      "text/plain": [
       "'quality control consists series mm single take shots filmed summer over two day period dry cleaners facility pritchard alabama near mobile quality control exhibits acts well conditions around labor showcases eversons words the fine folks alabama producing superior product similar stylistically form rhythm certain scenarios eversons awardwinning critically acclaimed previous films including erie iffr thematic concerns several short form works follow daily quotidian tasks workers rest motion oblique sequel ten years hence eversons creative capital granted project week hole focused employees adjustment materials time space personnel quality control consists series mm single take shots filmed two day period summer dry cleaners facility pritchard alabama near mobile quality control exhibits acts well conditions around labor similar stylistically form rhythm certain scenarios eversons awardwinning critically acclaimed previous films including erie iffr thematic concerns several short form works follow daily quotidian tasks workers rest motion including factory routine captured short film week hole focused employees adjustment materials time space personnel principal cast includes shay wright annette speight'"
      ]
     },
     "execution_count": 35,
     "metadata": {},
     "output_type": "execute_result"
    }
   ],
   "source": [
    "train_df['Description'].iloc[5]"
   ]
  },
  {
   "cell_type": "code",
   "execution_count": 36,
   "id": "2811a392",
   "metadata": {},
   "outputs": [
    {
     "data": {
      "text/plain": [
       "'spain march quico naughty child three belonging wealthy middleclass family since cristinas birth feels lost privileged position prince house eight months old sister so brother juan eight years old quite disobedient spend time committing prank prank causing resulting anger mother nanny old housemaid rest family members two much older brothers resigned mother retrograde father authoritarian ideas many years passed civil war despot pablo simply children dads war'"
      ]
     },
     "execution_count": 36,
     "metadata": {},
     "output_type": "execute_result"
    }
   ],
   "source": [
    "test_df['Description'].iloc[1]"
   ]
  },
  {
   "cell_type": "code",
   "execution_count": 37,
   "id": "9ecd314a",
   "metadata": {},
   "outputs": [
    {
     "data": {
      "text/html": [
       "<div>\n",
       "<style scoped>\n",
       "    .dataframe tbody tr th:only-of-type {\n",
       "        vertical-align: middle;\n",
       "    }\n",
       "\n",
       "    .dataframe tbody tr th {\n",
       "        vertical-align: top;\n",
       "    }\n",
       "\n",
       "    .dataframe thead th {\n",
       "        text-align: right;\n",
       "    }\n",
       "</style>\n",
       "<table border=\"1\" class=\"dataframe\">\n",
       "  <thead>\n",
       "    <tr style=\"text-align: right;\">\n",
       "      <th></th>\n",
       "      <th>Movie</th>\n",
       "      <th>Genre</th>\n",
       "      <th>Description</th>\n",
       "    </tr>\n",
       "  </thead>\n",
       "  <tbody>\n",
       "    <tr>\n",
       "      <th>1</th>\n",
       "      <td>Oscar et la dame rose (2009)</td>\n",
       "      <td>drama</td>\n",
       "      <td>listening conversation doctor parents yearold ...</td>\n",
       "    </tr>\n",
       "    <tr>\n",
       "      <th>2</th>\n",
       "      <td>Cupid (1997)</td>\n",
       "      <td>thriller</td>\n",
       "      <td>brother sister past incestuous relationship cu...</td>\n",
       "    </tr>\n",
       "    <tr>\n",
       "      <th>3</th>\n",
       "      <td>Young, Wild and Wonderful (1980)</td>\n",
       "      <td>adult</td>\n",
       "      <td>bus empties students field trip museum natural...</td>\n",
       "    </tr>\n",
       "    <tr>\n",
       "      <th>4</th>\n",
       "      <td>The Secret Sin (1915)</td>\n",
       "      <td>drama</td>\n",
       "      <td>help unemployed father make ends meet edith tw...</td>\n",
       "    </tr>\n",
       "    <tr>\n",
       "      <th>5</th>\n",
       "      <td>The Unrecovered (2007)</td>\n",
       "      <td>drama</td>\n",
       "      <td>films title refers unrecovered bodies ground z...</td>\n",
       "    </tr>\n",
       "  </tbody>\n",
       "</table>\n",
       "</div>"
      ],
      "text/plain": [
       "                                Movie       Genre  \\\n",
       "1       Oscar et la dame rose (2009)       drama    \n",
       "2                       Cupid (1997)    thriller    \n",
       "3   Young, Wild and Wonderful (1980)       adult    \n",
       "4              The Secret Sin (1915)       drama    \n",
       "5             The Unrecovered (2007)       drama    \n",
       "\n",
       "                                         Description  \n",
       "1  listening conversation doctor parents yearold ...  \n",
       "2  brother sister past incestuous relationship cu...  \n",
       "3  bus empties students field trip museum natural...  \n",
       "4  help unemployed father make ends meet edith tw...  \n",
       "5  films title refers unrecovered bodies ground z...  "
      ]
     },
     "execution_count": 37,
     "metadata": {},
     "output_type": "execute_result"
    }
   ],
   "source": [
    "train_df.head()"
   ]
  },
  {
   "cell_type": "markdown",
   "id": "733af7c6",
   "metadata": {},
   "source": [
    "### Stemming"
   ]
  },
  {
   "cell_type": "code",
   "execution_count": 38,
   "id": "38fdacee",
   "metadata": {},
   "outputs": [],
   "source": [
    "from nltk.stem import PorterStemmer\n",
    "st = PorterStemmer()\n",
    "train_df['Description'] = train_df['Description'].apply(lambda x: \" \".join([st.stem(word) for word in x.split()]))"
   ]
  },
  {
   "cell_type": "code",
   "execution_count": 39,
   "id": "a4f2ffd8",
   "metadata": {},
   "outputs": [],
   "source": [
    "test_df['Description'] = test_df['Description'].apply(lambda x: \" \".join([st.stem(word) for word in x.split()]))"
   ]
  },
  {
   "cell_type": "code",
   "execution_count": 40,
   "id": "8310eccf",
   "metadata": {},
   "outputs": [
    {
     "data": {
      "text/plain": [
       "'qualiti control consist seri mm singl take shot film summer over two day period dri cleaner facil pritchard alabama near mobil qualiti control exhibit act well condit around labor showcas everson word the fine folk alabama produc superior product similar stylist form rhythm certain scenario everson awardwin critic acclaim previou film includ eri iffr themat concern sever short form work follow daili quotidian task worker rest motion obliqu sequel ten year henc everson creativ capit grant project week hole focus employe adjust materi time space personnel qualiti control consist seri mm singl take shot film two day period summer dri cleaner facil pritchard alabama near mobil qualiti control exhibit act well condit around labor similar stylist form rhythm certain scenario everson awardwin critic acclaim previou film includ eri iffr themat concern sever short form work follow daili quotidian task worker rest motion includ factori routin captur short film week hole focus employe adjust materi time space personnel princip cast includ shay wright annett speight'"
      ]
     },
     "execution_count": 40,
     "metadata": {},
     "output_type": "execute_result"
    }
   ],
   "source": [
    "train_df['Description'].iloc[5]"
   ]
  },
  {
   "cell_type": "code",
   "execution_count": 41,
   "id": "a1c5aa02",
   "metadata": {},
   "outputs": [
    {
     "data": {
      "text/plain": [
       "'spain march quico naughti child three belong wealthi middleclass famili sinc cristina birth feel lost privileg posit princ hous eight month old sister so brother juan eight year old quit disobedi spend time commit prank prank caus result anger mother nanni old housemaid rest famili member two much older brother resign mother retrograd father authoritarian idea mani year pass civil war despot pablo simpli children dad war'"
      ]
     },
     "execution_count": 41,
     "metadata": {},
     "output_type": "execute_result"
    }
   ],
   "source": [
    "test_df['Description'].iloc[1]"
   ]
  },
  {
   "cell_type": "code",
   "execution_count": 42,
   "id": "35f28a1e",
   "metadata": {},
   "outputs": [
    {
     "name": "stdout",
     "output_type": "stream",
     "text": [
      "<class 'pandas.core.frame.DataFrame'>\n",
      "Index: 54214 entries, 1 to 54214\n",
      "Data columns (total 3 columns):\n",
      " #   Column       Non-Null Count  Dtype \n",
      "---  ------       --------------  ----- \n",
      " 0   Movie        54214 non-null  object\n",
      " 1   Genre        54214 non-null  object\n",
      " 2   Description  54214 non-null  object\n",
      "dtypes: object(3)\n",
      "memory usage: 1.7+ MB\n"
     ]
    }
   ],
   "source": [
    "train_df.info()"
   ]
  },
  {
   "cell_type": "code",
   "execution_count": 46,
   "id": "2bfa5c45",
   "metadata": {},
   "outputs": [
    {
     "data": {
      "text/plain": [
       "(20000, 3)"
      ]
     },
     "execution_count": 46,
     "metadata": {},
     "output_type": "execute_result"
    }
   ],
   "source": [
    "train_dfNew = train_df.iloc[:20000]\n",
    "train_dfNew.shape"
   ]
  },
  {
   "cell_type": "markdown",
   "id": "4121316c",
   "metadata": {},
   "source": [
    "### Text Vectorization Using TF-IDF"
   ]
  },
  {
   "cell_type": "code",
   "execution_count": 43,
   "id": "cf4b0d75",
   "metadata": {},
   "outputs": [],
   "source": [
    "from sklearn.feature_extraction.text import TfidfVectorizer"
   ]
  },
  {
   "cell_type": "code",
   "execution_count": 47,
   "id": "e5778cdb",
   "metadata": {},
   "outputs": [],
   "source": [
    "tfidf = TfidfVectorizer()\n",
    "train_tfidf = tfidf.fit_transform(train_dfNew['Description']).toarray()\n",
    "\n",
    "# test_tfidf = tfidf.transform(test_df['Description']).toaaray()"
   ]
  },
  {
   "cell_type": "code",
   "execution_count": null,
   "id": "4b871075",
   "metadata": {},
   "outputs": [],
   "source": [
    "print(train_tfidf)"
   ]
  },
  {
   "cell_type": "code",
   "execution_count": null,
   "id": "5815e9be",
   "metadata": {},
   "outputs": [],
   "source": [
    "# print(test_tfidf)"
   ]
  },
  {
   "cell_type": "code",
   "execution_count": 48,
   "id": "8ae53fcd",
   "metadata": {},
   "outputs": [
    {
     "data": {
      "text/plain": [
       "(20000, 59321)"
      ]
     },
     "execution_count": 48,
     "metadata": {},
     "output_type": "execute_result"
    }
   ],
   "source": [
    "train_tfidf.shape"
   ]
  },
  {
   "cell_type": "code",
   "execution_count": 51,
   "id": "3f68e7d1",
   "metadata": {},
   "outputs": [
    {
     "data": {
      "text/html": [
       "<div>\n",
       "<style scoped>\n",
       "    .dataframe tbody tr th:only-of-type {\n",
       "        vertical-align: middle;\n",
       "    }\n",
       "\n",
       "    .dataframe tbody tr th {\n",
       "        vertical-align: top;\n",
       "    }\n",
       "\n",
       "    .dataframe thead th {\n",
       "        text-align: right;\n",
       "    }\n",
       "</style>\n",
       "<table border=\"1\" class=\"dataframe\">\n",
       "  <thead>\n",
       "    <tr style=\"text-align: right;\">\n",
       "      <th></th>\n",
       "      <th>aa</th>\n",
       "      <th>aaa</th>\n",
       "      <th>aachi</th>\n",
       "      <th>aaf</th>\n",
       "      <th>aag</th>\n",
       "      <th>aajcha</th>\n",
       "      <th>aakash</th>\n",
       "      <th>aalia</th>\n",
       "      <th>aaliyah</th>\n",
       "      <th>aalst</th>\n",
       "      <th>...</th>\n",
       "      <th>zwicki</th>\n",
       "      <th>zwirner</th>\n",
       "      <th>zwischen</th>\n",
       "      <th>zwischenzahl</th>\n",
       "      <th>zwischenzeit</th>\n",
       "      <th>zygel</th>\n",
       "      <th>zygfryd</th>\n",
       "      <th>zygon</th>\n",
       "      <th>zylkin</th>\n",
       "      <th>zz</th>\n",
       "    </tr>\n",
       "  </thead>\n",
       "  <tbody>\n",
       "    <tr>\n",
       "      <th>0</th>\n",
       "      <td>0.0</td>\n",
       "      <td>0.0</td>\n",
       "      <td>0.0</td>\n",
       "      <td>0.0</td>\n",
       "      <td>0.0</td>\n",
       "      <td>0.0</td>\n",
       "      <td>0.0</td>\n",
       "      <td>0.0</td>\n",
       "      <td>0.0</td>\n",
       "      <td>0.0</td>\n",
       "      <td>...</td>\n",
       "      <td>0.0</td>\n",
       "      <td>0.0</td>\n",
       "      <td>0.0</td>\n",
       "      <td>0.0</td>\n",
       "      <td>0.0</td>\n",
       "      <td>0.0</td>\n",
       "      <td>0.0</td>\n",
       "      <td>0.0</td>\n",
       "      <td>0.0</td>\n",
       "      <td>0.0</td>\n",
       "    </tr>\n",
       "    <tr>\n",
       "      <th>1</th>\n",
       "      <td>0.0</td>\n",
       "      <td>0.0</td>\n",
       "      <td>0.0</td>\n",
       "      <td>0.0</td>\n",
       "      <td>0.0</td>\n",
       "      <td>0.0</td>\n",
       "      <td>0.0</td>\n",
       "      <td>0.0</td>\n",
       "      <td>0.0</td>\n",
       "      <td>0.0</td>\n",
       "      <td>...</td>\n",
       "      <td>0.0</td>\n",
       "      <td>0.0</td>\n",
       "      <td>0.0</td>\n",
       "      <td>0.0</td>\n",
       "      <td>0.0</td>\n",
       "      <td>0.0</td>\n",
       "      <td>0.0</td>\n",
       "      <td>0.0</td>\n",
       "      <td>0.0</td>\n",
       "      <td>0.0</td>\n",
       "    </tr>\n",
       "    <tr>\n",
       "      <th>2</th>\n",
       "      <td>0.0</td>\n",
       "      <td>0.0</td>\n",
       "      <td>0.0</td>\n",
       "      <td>0.0</td>\n",
       "      <td>0.0</td>\n",
       "      <td>0.0</td>\n",
       "      <td>0.0</td>\n",
       "      <td>0.0</td>\n",
       "      <td>0.0</td>\n",
       "      <td>0.0</td>\n",
       "      <td>...</td>\n",
       "      <td>0.0</td>\n",
       "      <td>0.0</td>\n",
       "      <td>0.0</td>\n",
       "      <td>0.0</td>\n",
       "      <td>0.0</td>\n",
       "      <td>0.0</td>\n",
       "      <td>0.0</td>\n",
       "      <td>0.0</td>\n",
       "      <td>0.0</td>\n",
       "      <td>0.0</td>\n",
       "    </tr>\n",
       "    <tr>\n",
       "      <th>3</th>\n",
       "      <td>0.0</td>\n",
       "      <td>0.0</td>\n",
       "      <td>0.0</td>\n",
       "      <td>0.0</td>\n",
       "      <td>0.0</td>\n",
       "      <td>0.0</td>\n",
       "      <td>0.0</td>\n",
       "      <td>0.0</td>\n",
       "      <td>0.0</td>\n",
       "      <td>0.0</td>\n",
       "      <td>...</td>\n",
       "      <td>0.0</td>\n",
       "      <td>0.0</td>\n",
       "      <td>0.0</td>\n",
       "      <td>0.0</td>\n",
       "      <td>0.0</td>\n",
       "      <td>0.0</td>\n",
       "      <td>0.0</td>\n",
       "      <td>0.0</td>\n",
       "      <td>0.0</td>\n",
       "      <td>0.0</td>\n",
       "    </tr>\n",
       "    <tr>\n",
       "      <th>4</th>\n",
       "      <td>0.0</td>\n",
       "      <td>0.0</td>\n",
       "      <td>0.0</td>\n",
       "      <td>0.0</td>\n",
       "      <td>0.0</td>\n",
       "      <td>0.0</td>\n",
       "      <td>0.0</td>\n",
       "      <td>0.0</td>\n",
       "      <td>0.0</td>\n",
       "      <td>0.0</td>\n",
       "      <td>...</td>\n",
       "      <td>0.0</td>\n",
       "      <td>0.0</td>\n",
       "      <td>0.0</td>\n",
       "      <td>0.0</td>\n",
       "      <td>0.0</td>\n",
       "      <td>0.0</td>\n",
       "      <td>0.0</td>\n",
       "      <td>0.0</td>\n",
       "      <td>0.0</td>\n",
       "      <td>0.0</td>\n",
       "    </tr>\n",
       "  </tbody>\n",
       "</table>\n",
       "<p>5 rows × 59321 columns</p>\n",
       "</div>"
      ],
      "text/plain": [
       "    aa  aaa  aachi  aaf  aag  aajcha  aakash  aalia  aaliyah  aalst  ...  \\\n",
       "0  0.0  0.0    0.0  0.0  0.0     0.0     0.0    0.0      0.0    0.0  ...   \n",
       "1  0.0  0.0    0.0  0.0  0.0     0.0     0.0    0.0      0.0    0.0  ...   \n",
       "2  0.0  0.0    0.0  0.0  0.0     0.0     0.0    0.0      0.0    0.0  ...   \n",
       "3  0.0  0.0    0.0  0.0  0.0     0.0     0.0    0.0      0.0    0.0  ...   \n",
       "4  0.0  0.0    0.0  0.0  0.0     0.0     0.0    0.0      0.0    0.0  ...   \n",
       "\n",
       "   zwicki  zwirner  zwischen  zwischenzahl  zwischenzeit  zygel  zygfryd  \\\n",
       "0     0.0      0.0       0.0           0.0           0.0    0.0      0.0   \n",
       "1     0.0      0.0       0.0           0.0           0.0    0.0      0.0   \n",
       "2     0.0      0.0       0.0           0.0           0.0    0.0      0.0   \n",
       "3     0.0      0.0       0.0           0.0           0.0    0.0      0.0   \n",
       "4     0.0      0.0       0.0           0.0           0.0    0.0      0.0   \n",
       "\n",
       "   zygon  zylkin   zz  \n",
       "0    0.0     0.0  0.0  \n",
       "1    0.0     0.0  0.0  \n",
       "2    0.0     0.0  0.0  \n",
       "3    0.0     0.0  0.0  \n",
       "4    0.0     0.0  0.0  \n",
       "\n",
       "[5 rows x 59321 columns]"
      ]
     },
     "execution_count": 51,
     "metadata": {},
     "output_type": "execute_result"
    }
   ],
   "source": [
    "vect_dfTrain = pd.DataFrame(train_tfidf,columns=tfidf.get_feature_names_out())\n",
    "vect_dfTrain.head()"
   ]
  },
  {
   "cell_type": "markdown",
   "id": "8cfbbae9",
   "metadata": {},
   "source": [
    "### Model Building"
   ]
  },
  {
   "cell_type": "code",
   "execution_count": 50,
   "id": "9b1c6368",
   "metadata": {},
   "outputs": [],
   "source": [
    "from sklearn.pipeline import Pipeline\n",
    "from sklearn.naive_bayes import MultinomialNB\n",
    "from sklearn.svm import LinearSVC\n",
    "from sklearn.metrics import accuracy_score, classification_report"
   ]
  },
  {
   "cell_type": "code",
   "execution_count": 52,
   "id": "2b1fcb3e",
   "metadata": {},
   "outputs": [],
   "source": [
    "X = vect_dfTrain\n",
    "y = train_dfNew['Genre']"
   ]
  },
  {
   "cell_type": "code",
   "execution_count": 58,
   "id": "1e5997e6",
   "metadata": {},
   "outputs": [
    {
     "data": {
      "text/plain": [
       "((20000, 59321), (20000,))"
      ]
     },
     "execution_count": 58,
     "metadata": {},
     "output_type": "execute_result"
    }
   ],
   "source": [
    "X.shape, y.shape"
   ]
  },
  {
   "cell_type": "code",
   "execution_count": 54,
   "id": "dbd15582",
   "metadata": {},
   "outputs": [
    {
     "name": "stdout",
     "output_type": "stream",
     "text": [
      "1               drama \n",
      "2            thriller \n",
      "3               adult \n",
      "4               drama \n",
      "5               drama \n",
      "             ...      \n",
      "19996           drama \n",
      "19997     documentary \n",
      "19998           drama \n",
      "19999        thriller \n",
      "20000     documentary \n",
      "Name: Genre, Length: 20000, dtype: object\n"
     ]
    }
   ],
   "source": [
    "print(y)"
   ]
  },
  {
   "cell_type": "code",
   "execution_count": 55,
   "id": "87ff408e",
   "metadata": {},
   "outputs": [
    {
     "data": {
      "text/plain": [
       "Genre\n",
       " drama           5003\n",
       " documentary     4807\n",
       " comedy          2732\n",
       " short           1930\n",
       " horror           789\n",
       " thriller         591\n",
       " action           479\n",
       " western          380\n",
       " reality-tv       339\n",
       " family           301\n",
       " adventure        299\n",
       " music            267\n",
       " sci-fi           245\n",
       " romance          240\n",
       " adult            227\n",
       " animation        186\n",
       " crime            166\n",
       " sport            153\n",
       " talk-show        153\n",
       " fantasy          133\n",
       " mystery          114\n",
       " musical           99\n",
       " biography         91\n",
       " history           89\n",
       " game-show         73\n",
       " news              66\n",
       " war               48\n",
       "Name: count, dtype: int64"
      ]
     },
     "execution_count": 55,
     "metadata": {},
     "output_type": "execute_result"
    }
   ],
   "source": [
    "y.value_counts()"
   ]
  },
  {
   "cell_type": "code",
   "execution_count": 56,
   "id": "b3ca67e3",
   "metadata": {},
   "outputs": [],
   "source": [
    "from sklearn.model_selection import train_test_split"
   ]
  },
  {
   "cell_type": "code",
   "execution_count": 57,
   "id": "c2bacdd3",
   "metadata": {},
   "outputs": [],
   "source": [
    "X_train, X_test, y_train, y_test = train_test_split(X, y, test_size=0.2, random_state=42)"
   ]
  },
  {
   "cell_type": "code",
   "execution_count": 59,
   "id": "7becffe0",
   "metadata": {},
   "outputs": [
    {
     "data": {
      "text/plain": [
       "5895     documentary \n",
       "3729           drama \n",
       "8959          comedy \n",
       "7672     documentary \n",
       "6000     documentary \n",
       "Name: Genre, dtype: object"
      ]
     },
     "execution_count": 59,
     "metadata": {},
     "output_type": "execute_result"
    }
   ],
   "source": [
    "y_train.head()"
   ]
  },
  {
   "cell_type": "code",
   "execution_count": 60,
   "id": "817767e0",
   "metadata": {},
   "outputs": [
    {
     "data": {
      "text/html": [
       "<style>#sk-container-id-1 {color: black;background-color: white;}#sk-container-id-1 pre{padding: 0;}#sk-container-id-1 div.sk-toggleable {background-color: white;}#sk-container-id-1 label.sk-toggleable__label {cursor: pointer;display: block;width: 100%;margin-bottom: 0;padding: 0.3em;box-sizing: border-box;text-align: center;}#sk-container-id-1 label.sk-toggleable__label-arrow:before {content: \"▸\";float: left;margin-right: 0.25em;color: #696969;}#sk-container-id-1 label.sk-toggleable__label-arrow:hover:before {color: black;}#sk-container-id-1 div.sk-estimator:hover label.sk-toggleable__label-arrow:before {color: black;}#sk-container-id-1 div.sk-toggleable__content {max-height: 0;max-width: 0;overflow: hidden;text-align: left;background-color: #f0f8ff;}#sk-container-id-1 div.sk-toggleable__content pre {margin: 0.2em;color: black;border-radius: 0.25em;background-color: #f0f8ff;}#sk-container-id-1 input.sk-toggleable__control:checked~div.sk-toggleable__content {max-height: 200px;max-width: 100%;overflow: auto;}#sk-container-id-1 input.sk-toggleable__control:checked~label.sk-toggleable__label-arrow:before {content: \"▾\";}#sk-container-id-1 div.sk-estimator input.sk-toggleable__control:checked~label.sk-toggleable__label {background-color: #d4ebff;}#sk-container-id-1 div.sk-label input.sk-toggleable__control:checked~label.sk-toggleable__label {background-color: #d4ebff;}#sk-container-id-1 input.sk-hidden--visually {border: 0;clip: rect(1px 1px 1px 1px);clip: rect(1px, 1px, 1px, 1px);height: 1px;margin: -1px;overflow: hidden;padding: 0;position: absolute;width: 1px;}#sk-container-id-1 div.sk-estimator {font-family: monospace;background-color: #f0f8ff;border: 1px dotted black;border-radius: 0.25em;box-sizing: border-box;margin-bottom: 0.5em;}#sk-container-id-1 div.sk-estimator:hover {background-color: #d4ebff;}#sk-container-id-1 div.sk-parallel-item::after {content: \"\";width: 100%;border-bottom: 1px solid gray;flex-grow: 1;}#sk-container-id-1 div.sk-label:hover label.sk-toggleable__label {background-color: #d4ebff;}#sk-container-id-1 div.sk-serial::before {content: \"\";position: absolute;border-left: 1px solid gray;box-sizing: border-box;top: 0;bottom: 0;left: 50%;z-index: 0;}#sk-container-id-1 div.sk-serial {display: flex;flex-direction: column;align-items: center;background-color: white;padding-right: 0.2em;padding-left: 0.2em;position: relative;}#sk-container-id-1 div.sk-item {position: relative;z-index: 1;}#sk-container-id-1 div.sk-parallel {display: flex;align-items: stretch;justify-content: center;background-color: white;position: relative;}#sk-container-id-1 div.sk-item::before, #sk-container-id-1 div.sk-parallel-item::before {content: \"\";position: absolute;border-left: 1px solid gray;box-sizing: border-box;top: 0;bottom: 0;left: 50%;z-index: -1;}#sk-container-id-1 div.sk-parallel-item {display: flex;flex-direction: column;z-index: 1;position: relative;background-color: white;}#sk-container-id-1 div.sk-parallel-item:first-child::after {align-self: flex-end;width: 50%;}#sk-container-id-1 div.sk-parallel-item:last-child::after {align-self: flex-start;width: 50%;}#sk-container-id-1 div.sk-parallel-item:only-child::after {width: 0;}#sk-container-id-1 div.sk-dashed-wrapped {border: 1px dashed gray;margin: 0 0.4em 0.5em 0.4em;box-sizing: border-box;padding-bottom: 0.4em;background-color: white;}#sk-container-id-1 div.sk-label label {font-family: monospace;font-weight: bold;display: inline-block;line-height: 1.2em;}#sk-container-id-1 div.sk-label-container {text-align: center;}#sk-container-id-1 div.sk-container {/* jupyter's `normalize.less` sets `[hidden] { display: none; }` but bootstrap.min.css set `[hidden] { display: none !important; }` so we also need the `!important` here to be able to override the default hidden behavior on the sphinx rendered scikit-learn.org. See: https://github.com/scikit-learn/scikit-learn/issues/21755 */display: inline-block !important;position: relative;}#sk-container-id-1 div.sk-text-repr-fallback {display: none;}</style><div id=\"sk-container-id-1\" class=\"sk-top-container\"><div class=\"sk-text-repr-fallback\"><pre>MultinomialNB()</pre><b>In a Jupyter environment, please rerun this cell to show the HTML representation or trust the notebook. <br />On GitHub, the HTML representation is unable to render, please try loading this page with nbviewer.org.</b></div><div class=\"sk-container\" hidden><div class=\"sk-item\"><div class=\"sk-estimator sk-toggleable\"><input class=\"sk-toggleable__control sk-hidden--visually\" id=\"sk-estimator-id-1\" type=\"checkbox\" checked><label for=\"sk-estimator-id-1\" class=\"sk-toggleable__label sk-toggleable__label-arrow\">MultinomialNB</label><div class=\"sk-toggleable__content\"><pre>MultinomialNB()</pre></div></div></div></div></div>"
      ],
      "text/plain": [
       "MultinomialNB()"
      ]
     },
     "execution_count": 60,
     "metadata": {},
     "output_type": "execute_result"
    }
   ],
   "source": [
    "# Initialize and train a Multinomial Naive Bayes classifier\n",
    "\n",
    "MNB = MultinomialNB()\n",
    "MNB.fit(X_train,y_train)"
   ]
  },
  {
   "cell_type": "code",
   "execution_count": 61,
   "id": "08827b25",
   "metadata": {},
   "outputs": [],
   "source": [
    "# Make predictions on the validation set\n",
    "\n",
    "y_pred = MNB.predict(X_test)"
   ]
  },
  {
   "cell_type": "code",
   "execution_count": 62,
   "id": "134662b5",
   "metadata": {},
   "outputs": [
    {
     "name": "stdout",
     "output_type": "stream",
     "text": [
      "Test Accuracy: 0.4295\n"
     ]
    }
   ],
   "source": [
    "accuracy = accuracy_score(y_test, y_pred)\n",
    "print(\"Test Accuracy:\", accuracy)\n"
   ]
  },
  {
   "cell_type": "code",
   "execution_count": 63,
   "id": "8f0be8b3",
   "metadata": {},
   "outputs": [
    {
     "name": "stdout",
     "output_type": "stream",
     "text": [
      "               precision    recall  f1-score   support\n",
      "\n",
      "      action        0.00      0.00      0.00        81\n",
      "       adult        0.00      0.00      0.00        30\n",
      "   adventure        0.00      0.00      0.00        54\n",
      "   animation        0.00      0.00      0.00        34\n",
      "   biography        0.00      0.00      0.00        20\n",
      "      comedy        0.43      0.01      0.02       527\n",
      "       crime        0.00      0.00      0.00        42\n",
      " documentary        0.51      0.86      0.64       980\n",
      "       drama        0.37      0.85      0.52      1017\n",
      "      family        0.00      0.00      0.00        60\n",
      "     fantasy        0.00      0.00      0.00        26\n",
      "   game-show        0.00      0.00      0.00        16\n",
      "     history        0.00      0.00      0.00        14\n",
      "      horror        0.00      0.00      0.00       169\n",
      "       music        0.00      0.00      0.00        59\n",
      "     musical        0.00      0.00      0.00        22\n",
      "     mystery        0.00      0.00      0.00        23\n",
      "        news        0.00      0.00      0.00        12\n",
      "  reality-tv        0.00      0.00      0.00        53\n",
      "     romance        0.00      0.00      0.00        38\n",
      "      sci-fi        0.00      0.00      0.00        52\n",
      "       short        0.00      0.00      0.00       419\n",
      "       sport        0.00      0.00      0.00        31\n",
      "   talk-show        0.00      0.00      0.00        28\n",
      "    thriller        0.00      0.00      0.00       117\n",
      "         war        0.00      0.00      0.00         9\n",
      "     western        0.00      0.00      0.00        67\n",
      "\n",
      "     accuracy                           0.43      4000\n",
      "    macro avg       0.05      0.06      0.04      4000\n",
      " weighted avg       0.28      0.43      0.29      4000\n",
      "\n"
     ]
    },
    {
     "name": "stderr",
     "output_type": "stream",
     "text": [
      "C:\\Users\\USER\\anaconda3\\Lib\\site-packages\\sklearn\\metrics\\_classification.py:1344: UndefinedMetricWarning: Precision and F-score are ill-defined and being set to 0.0 in labels with no predicted samples. Use `zero_division` parameter to control this behavior.\n",
      "  _warn_prf(average, modifier, msg_start, len(result))\n",
      "C:\\Users\\USER\\anaconda3\\Lib\\site-packages\\sklearn\\metrics\\_classification.py:1344: UndefinedMetricWarning: Precision and F-score are ill-defined and being set to 0.0 in labels with no predicted samples. Use `zero_division` parameter to control this behavior.\n",
      "  _warn_prf(average, modifier, msg_start, len(result))\n",
      "C:\\Users\\USER\\anaconda3\\Lib\\site-packages\\sklearn\\metrics\\_classification.py:1344: UndefinedMetricWarning: Precision and F-score are ill-defined and being set to 0.0 in labels with no predicted samples. Use `zero_division` parameter to control this behavior.\n",
      "  _warn_prf(average, modifier, msg_start, len(result))\n"
     ]
    }
   ],
   "source": [
    "print(classification_report(y_test, y_pred))\n"
   ]
  },
  {
   "cell_type": "code",
   "execution_count": null,
   "id": "b614b179",
   "metadata": {},
   "outputs": [],
   "source": []
  }
 ],
 "metadata": {
  "kernelspec": {
   "display_name": "Python 3 (ipykernel)",
   "language": "python",
   "name": "python3"
  },
  "language_info": {
   "codemirror_mode": {
    "name": "ipython",
    "version": 3
   },
   "file_extension": ".py",
   "mimetype": "text/x-python",
   "name": "python",
   "nbconvert_exporter": "python",
   "pygments_lexer": "ipython3",
   "version": "3.11.5"
  }
 },
 "nbformat": 4,
 "nbformat_minor": 5
}
